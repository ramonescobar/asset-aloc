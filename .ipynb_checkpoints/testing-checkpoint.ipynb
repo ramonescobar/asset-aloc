{
 "cells": [
  {
   "cell_type": "code",
   "execution_count": 61,
   "id": "a05d051f",
   "metadata": {},
   "outputs": [],
   "source": [
    "import pandas_datareader.data as web\n",
    "import datetime\n",
    "import pandas as pd\n",
    "import time\n",
    "from functools import reduce"
   ]
  },
  {
   "cell_type": "code",
   "execution_count": 62,
   "id": "358a5846",
   "metadata": {},
   "outputs": [],
   "source": [
    "start = datetime.datetime(2020,12,15)\n",
    "end = datetime.datetime(2021,9,15)\n",
    "coin =\"BNB-USD\"\n",
    "curr =\"GBP\""
   ]
  },
  {
   "cell_type": "code",
   "execution_count": 63,
   "id": "fc29a386",
   "metadata": {},
   "outputs": [],
   "source": [
    "def get_crypto(coin, start_date, end_date):\n",
    "    hist = web.DataReader(f\"{coin}\",\"yahoo\", start_date,end_date)\n",
    "    hist[f\"{coin}\"] = hist[\"Close\"]\n",
    "    hist = hist[[f'{coin}']] \n",
    "    #print(hist)\n",
    "    return hist"
   ]
  },
  {
   "cell_type": "code",
   "execution_count": 64,
   "id": "74793968",
   "metadata": {},
   "outputs": [],
   "source": [
    "def multiple_stocks(stocks, currency, start_date, end_date):\n",
    "    time.sleep(3)\n",
    "    \n",
    "    dfs =[]\n",
    "    \n",
    "    for c in stocks:\n",
    "        yc = c +\"-\"+ currency\n",
    "        dfs.append(get_crypto(yc,start_date,end_date))\n",
    "        \n",
    "    dfm = reduce(lambda left, right: pd.merge(left, right, on =['Date'], how ='outer'), dfs)\n",
    "    dfmu = dfmmelt(id_vars=['Date'],\n",
    "                         var_name='Cripto', \n",
    "                   value_name='Price')\n",
    "    return dfmu"
   ]
  },
  {
   "cell_type": "code",
   "execution_count": 67,
   "id": "74927ff9",
   "metadata": {},
   "outputs": [],
   "source": [
    "crt = ['BTC','ETH','BNB','ADA','USDT','DOGE']\n",
    "crip = multiple_stocks(crt, 'USD',start, end)"
   ]
  },
  {
   "cell_type": "code",
   "execution_count": 72,
   "id": "f1b783d9",
   "metadata": {},
   "outputs": [],
   "source": [
    "c = crip.reset_index()"
   ]
  },
  {
   "cell_type": "code",
   "execution_count": 73,
   "id": "9743888a",
   "metadata": {},
   "outputs": [],
   "source": [
    "df_unpivoted = c.melt(id_vars=['Date'],\n",
    "                         var_name='Cripto', value_name='Price')"
   ]
  },
  {
   "cell_type": "code",
   "execution_count": 74,
   "id": "76ac9ec7",
   "metadata": {},
   "outputs": [
    {
     "data": {
      "text/html": [
       "<div>\n",
       "<style scoped>\n",
       "    .dataframe tbody tr th:only-of-type {\n",
       "        vertical-align: middle;\n",
       "    }\n",
       "\n",
       "    .dataframe tbody tr th {\n",
       "        vertical-align: top;\n",
       "    }\n",
       "\n",
       "    .dataframe thead th {\n",
       "        text-align: right;\n",
       "    }\n",
       "</style>\n",
       "<table border=\"1\" class=\"dataframe\">\n",
       "  <thead>\n",
       "    <tr style=\"text-align: right;\">\n",
       "      <th></th>\n",
       "      <th>Date</th>\n",
       "      <th>Cripto</th>\n",
       "      <th>Price</th>\n",
       "    </tr>\n",
       "  </thead>\n",
       "  <tbody>\n",
       "    <tr>\n",
       "      <th>0</th>\n",
       "      <td>2020-12-15</td>\n",
       "      <td>BTC-USD</td>\n",
       "      <td>19417.076172</td>\n",
       "    </tr>\n",
       "    <tr>\n",
       "      <th>1</th>\n",
       "      <td>2020-12-16</td>\n",
       "      <td>BTC-USD</td>\n",
       "      <td>21310.597656</td>\n",
       "    </tr>\n",
       "    <tr>\n",
       "      <th>2</th>\n",
       "      <td>2020-12-17</td>\n",
       "      <td>BTC-USD</td>\n",
       "      <td>22805.162109</td>\n",
       "    </tr>\n",
       "    <tr>\n",
       "      <th>3</th>\n",
       "      <td>2020-12-18</td>\n",
       "      <td>BTC-USD</td>\n",
       "      <td>23137.960938</td>\n",
       "    </tr>\n",
       "    <tr>\n",
       "      <th>4</th>\n",
       "      <td>2020-12-19</td>\n",
       "      <td>BTC-USD</td>\n",
       "      <td>23869.832031</td>\n",
       "    </tr>\n",
       "    <tr>\n",
       "      <th>...</th>\n",
       "      <td>...</td>\n",
       "      <td>...</td>\n",
       "      <td>...</td>\n",
       "    </tr>\n",
       "    <tr>\n",
       "      <th>1651</th>\n",
       "      <td>2021-09-12</td>\n",
       "      <td>DOGE-USD</td>\n",
       "      <td>0.250617</td>\n",
       "    </tr>\n",
       "    <tr>\n",
       "      <th>1652</th>\n",
       "      <td>2021-09-13</td>\n",
       "      <td>DOGE-USD</td>\n",
       "      <td>0.235906</td>\n",
       "    </tr>\n",
       "    <tr>\n",
       "      <th>1653</th>\n",
       "      <td>2021-09-14</td>\n",
       "      <td>DOGE-USD</td>\n",
       "      <td>0.240709</td>\n",
       "    </tr>\n",
       "    <tr>\n",
       "      <th>1654</th>\n",
       "      <td>2021-09-15</td>\n",
       "      <td>DOGE-USD</td>\n",
       "      <td>0.247697</td>\n",
       "    </tr>\n",
       "    <tr>\n",
       "      <th>1655</th>\n",
       "      <td>2021-09-16</td>\n",
       "      <td>DOGE-USD</td>\n",
       "      <td>0.242555</td>\n",
       "    </tr>\n",
       "  </tbody>\n",
       "</table>\n",
       "<p>1656 rows × 3 columns</p>\n",
       "</div>"
      ],
      "text/plain": [
       "           Date    Cripto         Price\n",
       "0    2020-12-15   BTC-USD  19417.076172\n",
       "1    2020-12-16   BTC-USD  21310.597656\n",
       "2    2020-12-17   BTC-USD  22805.162109\n",
       "3    2020-12-18   BTC-USD  23137.960938\n",
       "4    2020-12-19   BTC-USD  23869.832031\n",
       "...         ...       ...           ...\n",
       "1651 2021-09-12  DOGE-USD      0.250617\n",
       "1652 2021-09-13  DOGE-USD      0.235906\n",
       "1653 2021-09-14  DOGE-USD      0.240709\n",
       "1654 2021-09-15  DOGE-USD      0.247697\n",
       "1655 2021-09-16  DOGE-USD      0.242555\n",
       "\n",
       "[1656 rows x 3 columns]"
      ]
     },
     "execution_count": 74,
     "metadata": {},
     "output_type": "execute_result"
    }
   ],
   "source": [
    "df_unpivoted"
   ]
  }
 ],
 "metadata": {
  "kernelspec": {
   "display_name": "Python 3",
   "language": "python",
   "name": "python3"
  }
 },
 "nbformat": 4,
 "nbformat_minor": 5
}
